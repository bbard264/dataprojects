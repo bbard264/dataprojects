{
 "cells": [
  {
   "cell_type": "code",
   "execution_count": 2,
   "metadata": {},
   "outputs": [],
   "source": [
    "import os\n",
    "import numpy as np\n",
    "import pandas as pd\n",
    "import matplotlib\n",
    "import matplotlib.pyplot as plt\n",
    "\n",
    "from sklearn.metrics import mean_squared_error\n",
    "from sklearn.metrics import roc_auc_score, roc_curve\n",
    "from sklearn.model_selection import StratifiedKFold\n",
    "\n",
    "pd.set_option('display.float_format', lambda x: '%.3f' % x)"
   ]
  },
  {
   "cell_type": "code",
   "execution_count": 3,
   "metadata": {},
   "outputs": [],
   "source": [
    "train = pd.read_csv(\"train.csv\")\n",
    "test = pd.read_csv(\"test.csv\")\n",
    "sample_submid = pd.read_csv('sample_submission.csv')"
   ]
  },
  {
   "cell_type": "code",
   "execution_count": 4,
   "metadata": {},
   "outputs": [
    {
     "data": {
      "text/plain": [
       "' train = train.sample(frac=0.025, random_state=np.random.seed(12))\\ntrain '"
      ]
     },
     "execution_count": 4,
     "metadata": {},
     "output_type": "execute_result"
    }
   ],
   "source": [
    "\"\"\" train = train.sample(frac=0.025, random_state=np.random.seed(12))\n",
    "train \"\"\""
   ]
  },
  {
   "cell_type": "code",
   "execution_count": 5,
   "metadata": {},
   "outputs": [
    {
     "name": "stdout",
     "output_type": "stream",
     "text": [
      "[1 2 3 6 7 4 5]\n"
     ]
    }
   ],
   "source": [
    "target = train['Cover_Type']\n",
    "print(target.unique())"
   ]
  },
  {
   "cell_type": "code",
   "execution_count": 6,
   "metadata": {},
   "outputs": [
    {
     "data": {
      "image/png": "[encoded data removed]",
      "text/plain": [
       "<Figure size 432x288 with 1 Axes>"
      ]
     },
     "metadata": {
      "needs_background": "light"
     },
     "output_type": "display_data"
    }
   ],
   "source": [
    "train_new = train.drop(columns=['Id', 'Cover_Type'])\n",
    "target = train['Cover_Type']\n",
    "train_new.head()\n",
    "plt.hist(target)\n",
    "plt.show()"
   ]
  },
  {
   "cell_type": "code",
   "execution_count": 7,
   "metadata": {},
   "outputs": [
    {
     "data": {
      "text/html": [
       "<div>\n",
       "<style scoped>\n",
       "    .dataframe tbody tr th:only-of-type {\n",
       "        vertical-align: middle;\n",
       "    }\n",
       "\n",
       "    .dataframe tbody tr th {\n",
       "        vertical-align: top;\n",
       "    }\n",
       "\n",
       "    .dataframe thead th {\n",
       "        text-align: right;\n",
       "    }\n",
       "</style>\n",
       "<table border=\"1\" class=\"dataframe\">\n",
       "  <thead>\n",
       "    <tr style=\"text-align: right;\">\n",
       "      <th></th>\n",
       "      <th>Elevation</th>\n",
       "      <th>Aspect</th>\n",
       "      <th>Slope</th>\n",
       "      <th>Horizontal_Distance_To_Hydrology</th>\n",
       "      <th>Vertical_Distance_To_Hydrology</th>\n",
       "      <th>Horizontal_Distance_To_Roadways</th>\n",
       "      <th>Hillshade_9am</th>\n",
       "      <th>Hillshade_Noon</th>\n",
       "      <th>Hillshade_3pm</th>\n",
       "      <th>Horizontal_Distance_To_Fire_Points</th>\n",
       "      <th>...</th>\n",
       "      <th>Soil_Type31</th>\n",
       "      <th>Soil_Type32</th>\n",
       "      <th>Soil_Type33</th>\n",
       "      <th>Soil_Type34</th>\n",
       "      <th>Soil_Type35</th>\n",
       "      <th>Soil_Type36</th>\n",
       "      <th>Soil_Type37</th>\n",
       "      <th>Soil_Type38</th>\n",
       "      <th>Soil_Type39</th>\n",
       "      <th>Soil_Type40</th>\n",
       "    </tr>\n",
       "  </thead>\n",
       "  <tbody>\n",
       "    <tr>\n",
       "      <th>count</th>\n",
       "      <td>4000000.000</td>\n",
       "      <td>4000000.000</td>\n",
       "      <td>4000000.000</td>\n",
       "      <td>4000000.000</td>\n",
       "      <td>4000000.000</td>\n",
       "      <td>4000000.000</td>\n",
       "      <td>4000000.000</td>\n",
       "      <td>4000000.000</td>\n",
       "      <td>4000000.000</td>\n",
       "      <td>4000000.000</td>\n",
       "      <td>...</td>\n",
       "      <td>4000000.000</td>\n",
       "      <td>4000000.000</td>\n",
       "      <td>4000000.000</td>\n",
       "      <td>4000000.000</td>\n",
       "      <td>4000000.000</td>\n",
       "      <td>4000000.000</td>\n",
       "      <td>4000000.000</td>\n",
       "      <td>4000000.000</td>\n",
       "      <td>4000000.000</td>\n",
       "      <td>4000000.000</td>\n",
       "    </tr>\n",
       "    <tr>\n",
       "      <th>mean</th>\n",
       "      <td>2980.192</td>\n",
       "      <td>151.586</td>\n",
       "      <td>15.098</td>\n",
       "      <td>271.315</td>\n",
       "      <td>51.663</td>\n",
       "      <td>1766.642</td>\n",
       "      <td>211.838</td>\n",
       "      <td>221.061</td>\n",
       "      <td>140.811</td>\n",
       "      <td>1581.407</td>\n",
       "      <td>...</td>\n",
       "      <td>0.027</td>\n",
       "      <td>0.037</td>\n",
       "      <td>0.038</td>\n",
       "      <td>0.012</td>\n",
       "      <td>0.016</td>\n",
       "      <td>0.011</td>\n",
       "      <td>0.012</td>\n",
       "      <td>0.041</td>\n",
       "      <td>0.039</td>\n",
       "      <td>0.032</td>\n",
       "    </tr>\n",
       "    <tr>\n",
       "      <th>std</th>\n",
       "      <td>289.048</td>\n",
       "      <td>109.961</td>\n",
       "      <td>8.547</td>\n",
       "      <td>226.550</td>\n",
       "      <td>68.216</td>\n",
       "      <td>1315.610</td>\n",
       "      <td>30.760</td>\n",
       "      <td>22.231</td>\n",
       "      <td>43.699</td>\n",
       "      <td>1127.616</td>\n",
       "      <td>...</td>\n",
       "      <td>0.164</td>\n",
       "      <td>0.190</td>\n",
       "      <td>0.191</td>\n",
       "      <td>0.109</td>\n",
       "      <td>0.126</td>\n",
       "      <td>0.103</td>\n",
       "      <td>0.110</td>\n",
       "      <td>0.198</td>\n",
       "      <td>0.194</td>\n",
       "      <td>0.175</td>\n",
       "    </tr>\n",
       "    <tr>\n",
       "      <th>min</th>\n",
       "      <td>1773.000</td>\n",
       "      <td>-33.000</td>\n",
       "      <td>-3.000</td>\n",
       "      <td>-92.000</td>\n",
       "      <td>-317.000</td>\n",
       "      <td>-287.000</td>\n",
       "      <td>-4.000</td>\n",
       "      <td>49.000</td>\n",
       "      <td>-53.000</td>\n",
       "      <td>-277.000</td>\n",
       "      <td>...</td>\n",
       "      <td>0.000</td>\n",
       "      <td>0.000</td>\n",
       "      <td>0.000</td>\n",
       "      <td>0.000</td>\n",
       "      <td>0.000</td>\n",
       "      <td>0.000</td>\n",
       "      <td>0.000</td>\n",
       "      <td>0.000</td>\n",
       "      <td>0.000</td>\n",
       "      <td>0.000</td>\n",
       "    </tr>\n",
       "    <tr>\n",
       "      <th>25%</th>\n",
       "      <td>2760.000</td>\n",
       "      <td>60.000</td>\n",
       "      <td>9.000</td>\n",
       "      <td>110.000</td>\n",
       "      <td>4.000</td>\n",
       "      <td>822.000</td>\n",
       "      <td>198.000</td>\n",
       "      <td>210.000</td>\n",
       "      <td>115.000</td>\n",
       "      <td>781.000</td>\n",
       "      <td>...</td>\n",
       "      <td>0.000</td>\n",
       "      <td>0.000</td>\n",
       "      <td>0.000</td>\n",
       "      <td>0.000</td>\n",
       "      <td>0.000</td>\n",
       "      <td>0.000</td>\n",
       "      <td>0.000</td>\n",
       "      <td>0.000</td>\n",
       "      <td>0.000</td>\n",
       "      <td>0.000</td>\n",
       "    </tr>\n",
       "    <tr>\n",
       "      <th>50%</th>\n",
       "      <td>2966.000</td>\n",
       "      <td>123.000</td>\n",
       "      <td>14.000</td>\n",
       "      <td>213.000</td>\n",
       "      <td>31.000</td>\n",
       "      <td>1436.000</td>\n",
       "      <td>218.000</td>\n",
       "      <td>224.000</td>\n",
       "      <td>142.000</td>\n",
       "      <td>1361.000</td>\n",
       "      <td>...</td>\n",
       "      <td>0.000</td>\n",
       "      <td>0.000</td>\n",
       "      <td>0.000</td>\n",
       "      <td>0.000</td>\n",
       "      <td>0.000</td>\n",
       "      <td>0.000</td>\n",
       "      <td>0.000</td>\n",
       "      <td>0.000</td>\n",
       "      <td>0.000</td>\n",
       "      <td>0.000</td>\n",
       "    </tr>\n",
       "    <tr>\n",
       "      <th>75%</th>\n",
       "      <td>3217.000</td>\n",
       "      <td>247.000</td>\n",
       "      <td>20.000</td>\n",
       "      <td>361.000</td>\n",
       "      <td>78.000</td>\n",
       "      <td>2365.000</td>\n",
       "      <td>233.000</td>\n",
       "      <td>237.000</td>\n",
       "      <td>169.000</td>\n",
       "      <td>2084.000</td>\n",
       "      <td>...</td>\n",
       "      <td>0.000</td>\n",
       "      <td>0.000</td>\n",
       "      <td>0.000</td>\n",
       "      <td>0.000</td>\n",
       "      <td>0.000</td>\n",
       "      <td>0.000</td>\n",
       "      <td>0.000</td>\n",
       "      <td>0.000</td>\n",
       "      <td>0.000</td>\n",
       "      <td>0.000</td>\n",
       "    </tr>\n",
       "    <tr>\n",
       "      <th>max</th>\n",
       "      <td>4383.000</td>\n",
       "      <td>407.000</td>\n",
       "      <td>64.000</td>\n",
       "      <td>1602.000</td>\n",
       "      <td>647.000</td>\n",
       "      <td>7666.000</td>\n",
       "      <td>301.000</td>\n",
       "      <td>279.000</td>\n",
       "      <td>272.000</td>\n",
       "      <td>8075.000</td>\n",
       "      <td>...</td>\n",
       "      <td>1.000</td>\n",
       "      <td>1.000</td>\n",
       "      <td>1.000</td>\n",
       "      <td>1.000</td>\n",
       "      <td>1.000</td>\n",
       "      <td>1.000</td>\n",
       "      <td>1.000</td>\n",
       "      <td>1.000</td>\n",
       "      <td>1.000</td>\n",
       "      <td>1.000</td>\n",
       "    </tr>\n",
       "  </tbody>\n",
       "</table>\n",
       "<p>8 rows × 54 columns</p>\n",
       "</div>"
      ],
      "text/plain": [
       "        Elevation      Aspect       Slope  Horizontal_Distance_To_Hydrology  \\\n",
       "count 4000000.000 4000000.000 4000000.000                       4000000.000   \n",
       "mean     2980.192     151.586      15.098                           271.315   \n",
       "std       289.048     109.961       8.547                           226.550   \n",
       "min      1773.000     -33.000      -3.000                           -92.000   \n",
       "25%      2760.000      60.000       9.000                           110.000   \n",
       "50%      2966.000     123.000      14.000                           213.000   \n",
       "75%      3217.000     247.000      20.000                           361.000   \n",
       "max      4383.000     407.000      64.000                          1602.000   \n",
       "\n",
       "       Vertical_Distance_To_Hydrology  Horizontal_Distance_To_Roadways  \\\n",
       "count                     4000000.000                      4000000.000   \n",
       "mean                           51.663                         1766.642   \n",
       "std                            68.216                         1315.610   \n",
       "min                          -317.000                         -287.000   \n",
       "25%                             4.000                          822.000   \n",
       "50%                            31.000                         1436.000   \n",
       "75%                            78.000                         2365.000   \n",
       "max                           647.000                         7666.000   \n",
       "\n",
       "       Hillshade_9am  Hillshade_Noon  Hillshade_3pm  \\\n",
       "count    4000000.000     4000000.000    4000000.000   \n",
       "mean         211.838         221.061        140.811   \n",
       "std           30.760          22.231         43.699   \n",
       "min           -4.000          49.000        -53.000   \n",
       "25%          198.000         210.000        115.000   \n",
       "50%          218.000         224.000        142.000   \n",
       "75%          233.000         237.000        169.000   \n",
       "max          301.000         279.000        272.000   \n",
       "\n",
       "       Horizontal_Distance_To_Fire_Points  ...  Soil_Type31  Soil_Type32  \\\n",
       "count                         4000000.000  ...  4000000.000  4000000.000   \n",
       "mean                             1581.407  ...        0.027        0.037   \n",
       "std                              1127.616  ...        0.164        0.190   \n",
       "min                              -277.000  ...        0.000        0.000   \n",
       "25%                               781.000  ...        0.000        0.000   \n",
       "50%                              1361.000  ...        0.000        0.000   \n",
       "75%                              2084.000  ...        0.000        0.000   \n",
       "max                              8075.000  ...        1.000        1.000   \n",
       "\n",
       "       Soil_Type33  Soil_Type34  Soil_Type35  Soil_Type36  Soil_Type37  \\\n",
       "count  4000000.000  4000000.000  4000000.000  4000000.000  4000000.000   \n",
       "mean         0.038        0.012        0.016        0.011        0.012   \n",
       "std          0.191        0.109        0.126        0.103        0.110   \n",
       "min          0.000        0.000        0.000        0.000        0.000   \n",
       "25%          0.000        0.000        0.000        0.000        0.000   \n",
       "50%          0.000        0.000        0.000        0.000        0.000   \n",
       "75%          0.000        0.000        0.000        0.000        0.000   \n",
       "max          1.000        1.000        1.000        1.000        1.000   \n",
       "\n",
       "       Soil_Type38  Soil_Type39  Soil_Type40  \n",
       "count  4000000.000  4000000.000  4000000.000  \n",
       "mean         0.041        0.039        0.032  \n",
       "std          0.198        0.194        0.175  \n",
       "min          0.000        0.000        0.000  \n",
       "25%          0.000        0.000        0.000  \n",
       "50%          0.000        0.000        0.000  \n",
       "75%          0.000        0.000        0.000  \n",
       "max          1.000        1.000        1.000  \n",
       "\n",
       "[8 rows x 54 columns]"
      ]
     },
     "execution_count": 7,
     "metadata": {},
     "output_type": "execute_result"
    }
   ],
   "source": [
    "train_new.describe()"
   ]
  },
  {
   "cell_type": "code",
   "execution_count": 8,
   "metadata": {},
   "outputs": [
    {
     "data": {
      "image/png": "[encoded data removed]",
      "text/plain": [
       "<Figure size 1440x720 with 54 Axes>"
      ]
     },
     "metadata": {
      "needs_background": "light"
     },
     "output_type": "display_data"
    }
   ],
   "source": [
    "fig, ax = plt.subplots(6, 9, figsize=(20, 10))\n",
    "for i, column in enumerate(train_new.columns):\n",
    "    ax[i // 9, i % 9].hist(train[column])\n",
    "    ax[i // 9, i % 9].set_title(column)\n",
    "\n",
    "plt.tight_layout()\n",
    "plt.show()\n",
    "\n"
   ]
  },
  {
   "cell_type": "code",
   "execution_count": 9,
   "metadata": {},
   "outputs": [],
   "source": [
    "from sklearn.model_selection import train_test_split\n",
    "from sklearn.tree import DecisionTreeClassifier\n",
    "from sklearn.ensemble import RandomForestClassifier\n",
    "from sklearn.ensemble import GradientBoostingClassifier\n",
    "from sklearn.neural_network import MLPClassifier\n",
    "from sklearn.metrics import roc_auc_score\n",
    "from tqdm import tqdm\n",
    "\n",
    "from sklearn.model_selection import cross_val_score"
   ]
  },
  {
   "cell_type": "code",
   "execution_count": 10,
   "metadata": {},
   "outputs": [
    {
     "name": "stdout",
     "output_type": "stream",
     "text": [
      "(3200000, 54)\n",
      "(800000, 54)\n",
      "(3200000,)\n",
      "(800000,)\n"
     ]
    }
   ],
   "source": [
    "# Split the data into training and testing sets\n",
    "X_train, X_test, y_train, y_test = train_test_split(train_new, target, random_state=42, test_size=0.2)\n",
    "\n",
    "print(X_train.shape)\n",
    "print(X_test.shape)\n",
    "print(y_train.shape)\n",
    "print(y_test.shape)"
   ]
  },
  {
   "cell_type": "code",
   "execution_count": 21,
   "metadata": {},
   "outputs": [
    {
     "name": "stderr",
     "output_type": "stream",
     "text": [
      "  0%|          | 0/4 [02:03<?, ?it/s]\n"
     ]
    },
    {
     "name": "stdout",
     "output_type": "stream",
     "text": [
      "train is done\n"
     ]
    },
    {
     "name": "stderr",
     "output_type": "stream",
     "text": [
      "  0%|          | 0/4 [00:00<?, ?it/s]"
     ]
    },
    {
     "name": "stdout",
     "output_type": "stream",
     "text": [
      "predict is done\n"
     ]
    },
    {
     "name": "stderr",
     "output_type": "stream",
     "text": [
      "\n"
     ]
    }
   ],
   "source": [
    "\n",
    "# Train the machine learning techniques\n",
    "model_1 = DecisionTreeClassifier()\n",
    "model_2 = RandomForestClassifier()\n",
    "model_3 = GradientBoostingClassifier()\n",
    "model_4 = MLPClassifier()\n",
    "models = [model_1,model_2,model_3,model_4]\n",
    "\n",
    "for m in tqdm(models):\n",
    "    m.fit(X_train, y_train)\n",
    "    break\n",
    "\n",
    "print(\"train is done\")\n",
    "\n",
    "# Make predictions on the testing set\n",
    "y_preds = []\n",
    "for p in tqdm(models):\n",
    "    y_preds.append(p.predict_proba(X_test))\n",
    "    break\n",
    "print(\"predict is done\")"
   ]
  },
  {
   "cell_type": "code",
   "execution_count": 41,
   "metadata": {},
   "outputs": [
    {
     "name": "stdout",
     "output_type": "stream",
     "text": [
      "[[0. 0. 0. ... 0. 0. 0.]\n",
      " [1. 1. 1. ... 1. 1. 1.]\n",
      " [1. 1. 1. ... 1. 1. 1.]\n",
      " ...\n",
      " [1. 1. 1. ... 1. 1. 1.]\n",
      " [0. 0. 0. ... 0. 0. 0.]\n",
      " [1. 1. 1. ... 1. 1. 1.]]\n",
      "[0. 0. 0. 0. 0. 0. 0.]\n"
     ]
    },
    {
     "ename": "ValueError",
     "evalue": "1 is not in list",
     "output_type": "error",
     "traceback": [
      "\u001b[1;31m---------------------------------------------------------------------------\u001b[0m",
      "\u001b[1;31mValueError\u001b[0m                                Traceback (most recent call last)",
      "\u001b[1;32md:\\Pond\\Kaggle\\dec2021\\Dec2021.ipynb Cell 11\u001b[0m in \u001b[0;36m<cell line: 3>\u001b[1;34m()\u001b[0m\n\u001b[0;32m      <a href='vscode-notebook-cell:/d%3A/Pond/Kaggle/dec2021/Dec2021.ipynb#X14sZmlsZQ%3D%3D?line=4'>5</a>\u001b[0m     \u001b[39mfor\u001b[39;00m j \u001b[39min\u001b[39;00m i:\n\u001b[0;32m      <a href='vscode-notebook-cell:/d%3A/Pond/Kaggle/dec2021/Dec2021.ipynb#X14sZmlsZQ%3D%3D?line=5'>6</a>\u001b[0m         \u001b[39mprint\u001b[39m(j)\n\u001b[1;32m----> <a href='vscode-notebook-cell:/d%3A/Pond/Kaggle/dec2021/Dec2021.ipynb#X14sZmlsZQ%3D%3D?line=6'>7</a>\u001b[0m         testt[t] \u001b[39m=\u001b[39m \u001b[39mlist\u001b[39;49m(j)\u001b[39m.\u001b[39;49mindex(\u001b[39m1\u001b[39;49m)\u001b[39m+\u001b[39m\u001b[39m1\u001b[39m\n\u001b[0;32m      <a href='vscode-notebook-cell:/d%3A/Pond/Kaggle/dec2021/Dec2021.ipynb#X14sZmlsZQ%3D%3D?line=7'>8</a>\u001b[0m         t \u001b[39m+\u001b[39m\u001b[39m=\u001b[39m \u001b[39m1\u001b[39m\n\u001b[0;32m     <a href='vscode-notebook-cell:/d%3A/Pond/Kaggle/dec2021/Dec2021.ipynb#X14sZmlsZQ%3D%3D?line=9'>10</a>\u001b[0m \u001b[39mprint\u001b[39m(testt\u001b[39m.\u001b[39mshape)\n",
      "\u001b[1;31mValueError\u001b[0m: 1 is not in list"
     ]
    }
   ],
   "source": []
  },
  {
   "cell_type": "code",
   "execution_count": null,
   "metadata": {},
   "outputs": [
    {
     "name": "stderr",
     "output_type": "stream",
     "text": [
      "  0%|          | 0/1 [00:00<?, ?it/s]\n"
     ]
    },
    {
     "ename": "ValueError",
     "evalue": "Number of classes in y_true not equal to the number of columns in 'y_score'",
     "output_type": "error",
     "traceback": [
      "\u001b[1;31m---------------------------------------------------------------------------\u001b[0m",
      "\u001b[1;31mValueError\u001b[0m                                Traceback (most recent call last)",
      "\u001b[1;32md:\\Pond\\Kaggle\\dec2021\\Dec2021.ipynb Cell 12\u001b[0m in \u001b[0;36m<cell line: 3>\u001b[1;34m()\u001b[0m\n\u001b[0;32m      <a href='vscode-notebook-cell:/d%3A/Pond/Kaggle/dec2021/Dec2021.ipynb#X23sZmlsZQ%3D%3D?line=1'>2</a>\u001b[0m aucs\u001b[39m=\u001b[39m[]\n\u001b[0;32m      <a href='vscode-notebook-cell:/d%3A/Pond/Kaggle/dec2021/Dec2021.ipynb#X23sZmlsZQ%3D%3D?line=2'>3</a>\u001b[0m \u001b[39mfor\u001b[39;00m p \u001b[39min\u001b[39;00m tqdm(predictions):\n\u001b[1;32m----> <a href='vscode-notebook-cell:/d%3A/Pond/Kaggle/dec2021/Dec2021.ipynb#X23sZmlsZQ%3D%3D?line=3'>4</a>\u001b[0m     auc \u001b[39m=\u001b[39m roc_auc_score(y_test\u001b[39m.\u001b[39;49mvalues, p, multi_class\u001b[39m=\u001b[39;49m\u001b[39m'\u001b[39;49m\u001b[39movo\u001b[39;49m\u001b[39m'\u001b[39;49m)\n\u001b[0;32m      <a href='vscode-notebook-cell:/d%3A/Pond/Kaggle/dec2021/Dec2021.ipynb#X23sZmlsZQ%3D%3D?line=4'>5</a>\u001b[0m     \u001b[39mprint\u001b[39m(auc)\n\u001b[0;32m      <a href='vscode-notebook-cell:/d%3A/Pond/Kaggle/dec2021/Dec2021.ipynb#X23sZmlsZQ%3D%3D?line=5'>6</a>\u001b[0m     aucs\u001b[39m.\u001b[39mappend(auc)\n",
      "File \u001b[1;32md:\\Anaconda3\\lib\\site-packages\\sklearn\\metrics\\_ranking.py:561\u001b[0m, in \u001b[0;36mroc_auc_score\u001b[1;34m(y_true, y_score, average, sample_weight, max_fpr, multi_class, labels)\u001b[0m\n\u001b[0;32m    559\u001b[0m     \u001b[39mif\u001b[39;00m multi_class \u001b[39m==\u001b[39m \u001b[39m\"\u001b[39m\u001b[39mraise\u001b[39m\u001b[39m\"\u001b[39m:\n\u001b[0;32m    560\u001b[0m         \u001b[39mraise\u001b[39;00m \u001b[39mValueError\u001b[39;00m(\u001b[39m\"\u001b[39m\u001b[39mmulti_class must be in (\u001b[39m\u001b[39m'\u001b[39m\u001b[39movo\u001b[39m\u001b[39m'\u001b[39m\u001b[39m, \u001b[39m\u001b[39m'\u001b[39m\u001b[39movr\u001b[39m\u001b[39m'\u001b[39m\u001b[39m)\u001b[39m\u001b[39m\"\u001b[39m)\n\u001b[1;32m--> 561\u001b[0m     \u001b[39mreturn\u001b[39;00m _multiclass_roc_auc_score(\n\u001b[0;32m    562\u001b[0m         y_true, y_score, labels, multi_class, average, sample_weight\n\u001b[0;32m    563\u001b[0m     )\n\u001b[0;32m    564\u001b[0m \u001b[39melif\u001b[39;00m y_type \u001b[39m==\u001b[39m \u001b[39m\"\u001b[39m\u001b[39mbinary\u001b[39m\u001b[39m\"\u001b[39m:\n\u001b[0;32m    565\u001b[0m     labels \u001b[39m=\u001b[39m np\u001b[39m.\u001b[39munique(y_true)\n",
      "File \u001b[1;32md:\\Anaconda3\\lib\\site-packages\\sklearn\\metrics\\_ranking.py:665\u001b[0m, in \u001b[0;36m_multiclass_roc_auc_score\u001b[1;34m(y_true, y_score, labels, multi_class, average, sample_weight)\u001b[0m\n\u001b[0;32m    663\u001b[0m     classes \u001b[39m=\u001b[39m _unique(y_true)\n\u001b[0;32m    664\u001b[0m     \u001b[39mif\u001b[39;00m \u001b[39mlen\u001b[39m(classes) \u001b[39m!=\u001b[39m y_score\u001b[39m.\u001b[39mshape[\u001b[39m1\u001b[39m]:\n\u001b[1;32m--> 665\u001b[0m         \u001b[39mraise\u001b[39;00m \u001b[39mValueError\u001b[39;00m(\n\u001b[0;32m    666\u001b[0m             \u001b[39m\"\u001b[39m\u001b[39mNumber of classes in y_true not equal to the number of \u001b[39m\u001b[39m\"\u001b[39m\n\u001b[0;32m    667\u001b[0m             \u001b[39m\"\u001b[39m\u001b[39mcolumns in \u001b[39m\u001b[39m'\u001b[39m\u001b[39my_score\u001b[39m\u001b[39m'\u001b[39m\u001b[39m\"\u001b[39m\n\u001b[0;32m    668\u001b[0m         )\n\u001b[0;32m    670\u001b[0m \u001b[39mif\u001b[39;00m multi_class \u001b[39m==\u001b[39m \u001b[39m\"\u001b[39m\u001b[39movo\u001b[39m\u001b[39m\"\u001b[39m:\n\u001b[0;32m    671\u001b[0m     \u001b[39mif\u001b[39;00m sample_weight \u001b[39mis\u001b[39;00m \u001b[39mnot\u001b[39;00m \u001b[39mNone\u001b[39;00m:\n",
      "\u001b[1;31mValueError\u001b[0m: Number of classes in y_true not equal to the number of columns in 'y_score'"
     ]
    }
   ],
   "source": [
    "# Calculate the AUC scores\n",
    "aucs=[]\n",
    "for p in tqdm(predictions):\n",
    "    auc = roc_auc_score(y_test.values, p, multi_class='ovo')\n",
    "    print(auc)\n",
    "    aucs.append(auc)\n",
    "\n",
    "    break\n",
    "print(\"calcutate auc is done\")\n",
    "\n",
    "\"\"\" # Ensemble the predictions\n",
    "predictions_ensemble = (predictions_1 + predictions_2 + predictions_3 + predictions_4) / 4\n",
    "\n",
    "# Calculate the AUC score for the ensemble\n",
    "auc_ensemble = roc_auc_score(y_test, predictions_ensemble) \"\"\"\n",
    "\n",
    "# Compare the AUC scores\n",
    "for (m,a) in tqdm(zip(models,aucs)):\n",
    "    print(\"AUC for\", m,\":\", a)\n",
    "    break"
   ]
  }
 ],
 "metadata": {
  "kernelspec": {
   "display_name": "base",
   "language": "python",
   "name": "python3"
  },
  "language_info": {
   "codemirror_mode": {
    "name": "ipython",
    "version": 3
   },
   "file_extension": ".py",
   "mimetype": "text/x-python",
   "name": "python",
   "nbconvert_exporter": "python",
   "pygments_lexer": "ipython3",
   "version": "3.9.12"
  },
  "orig_nbformat": 4,
  "vscode": {
   "interpreter": {
    "hash": "b09ec625f77bf4fd762565a912b97636504ad6ec901eb2d0f4cf5a7de23e1ee5"
   }
  }
 },
 "nbformat": 4,
 "nbformat_minor": 2
}
